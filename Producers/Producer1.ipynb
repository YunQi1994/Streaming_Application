{
 "cells": [
  {
   "cell_type": "markdown",
   "metadata": {},
   "source": [
    "# Simulating real-time data using Apache Kafka Producers."
   ]
  },
  {
   "cell_type": "markdown",
   "metadata": {},
   "source": [
    "### a. Event   Producer   1:   Write   a   python   program   that   loads   all   the   data   from climate_streaming.csv   and   randomly  feed   the   data   to   the   stream   every   5  seconds.   You   will   need   to   append   additional   information   such   as   sender_id  and created_time."
   ]
  },
  {
   "cell_type": "code",
   "execution_count": 1,
   "metadata": {},
   "outputs": [
    {
     "name": "stdout",
     "output_type": "stream",
     "text": [
      "Publishing records..\n",
      "Message published successfully. Data: {'latitude': '-37.45', 'relative_humidity': '40.5', 'max_wind_speed': '26', 'air_temperature_celcius': '11', 'windspeed_knots': '13.4', 'precipitation': '0.00G', 'longitude': '148.126', 'sender_id': 'producer1', 'Creadted_time': '2019-05-24T22:34:40'}\n",
      "Message published successfully. Data: {'latitude': '-37.634', 'relative_humidity': '48.4', 'max_wind_speed': '15.9', 'air_temperature_celcius': '16', 'windspeed_knots': '8.1', 'precipitation': '0.00G', 'longitude': '149.237', 'sender_id': 'producer1', 'Creadted_time': '2019-05-24T22:34:46'}\n",
      "Message published successfully. Data: {'latitude': '-37.465', 'relative_humidity': '43.5', 'max_wind_speed': '21', 'air_temperature_celcius': '11', 'windspeed_knots': '13.1', 'precipitation': '0.24G', 'longitude': '148.153', 'sender_id': 'producer1', 'Creadted_time': '2019-05-24T22:34:51'}\n",
      "Message published successfully. Data: {'latitude': '-37.644', 'relative_humidity': '58', 'max_wind_speed': '12', 'air_temperature_celcius': '22', 'windspeed_knots': '6.9', 'precipitation': '0.00I', 'longitude': '149.233', 'sender_id': 'producer1', 'Creadted_time': '2019-05-24T22:34:56'}\n",
      "Message published successfully. Data: {'latitude': '-37.467', 'relative_humidity': '37.9', 'max_wind_speed': '14', 'air_temperature_celcius': '10', 'windspeed_knots': '8.5', 'precipitation': '0.02G', 'longitude': '148.127', 'sender_id': 'producer1', 'Creadted_time': '2019-05-24T22:35:01'}\n",
      "Message published successfully. Data: {'latitude': '-37.45', 'relative_humidity': '40.5', 'max_wind_speed': '26', 'air_temperature_celcius': '11', 'windspeed_knots': '13.4', 'precipitation': '0.00G', 'longitude': '148.126', 'sender_id': 'producer1', 'Creadted_time': '2019-05-24T22:35:06'}\n",
      "Message published successfully. Data: {'latitude': '-36.943', 'relative_humidity': '55.2', 'max_wind_speed': '11.1', 'air_temperature_celcius': '24', 'windspeed_knots': '5.8', 'precipitation': '0.00I', 'longitude': '143.286', 'sender_id': 'producer1', 'Creadted_time': '2019-05-24T22:35:41'}\n",
      "Message published successfully. Data: {'latitude': '-36.3114', 'relative_humidity': '56.7', 'max_wind_speed': '16.9', 'air_temperature_celcius': '28', 'windspeed_knots': '9.3', 'precipitation': '0.00I', 'longitude': '142.7605', 'sender_id': 'producer1', 'Creadted_time': '2019-05-24T22:35:46'}\n",
      "Message published successfully. Data: {'latitude': '-37.434', 'relative_humidity': '43.7', 'max_wind_speed': '27', 'air_temperature_celcius': '14', 'windspeed_knots': '17', 'precipitation': '0.00I', 'longitude': '148.123', 'sender_id': 'producer1', 'Creadted_time': '2019-05-24T22:35:51'}\n",
      "Message published successfully. Data: {'latitude': '-37.453', 'relative_humidity': '39', 'max_wind_speed': '5.1', 'air_temperature_celcius': '6', 'windspeed_knots': '1.8', 'precipitation': '0.01G', 'longitude': '148.118', 'sender_id': 'producer1', 'Creadted_time': '2019-05-24T22:35:56'}\n",
      "Message published successfully. Data: {'latitude': '-36.275', 'relative_humidity': '30.8', 'max_wind_speed': '11.1', 'air_temperature_celcius': '6', 'windspeed_knots': '5.7', 'precipitation': '0.00I', 'longitude': '142.785', 'sender_id': 'producer1', 'Creadted_time': '2019-05-24T22:36:01'}\n",
      "Message published successfully. Data: {'latitude': '-37.461', 'relative_humidity': '50.7', 'max_wind_speed': '13', 'air_temperature_celcius': '14', 'windspeed_knots': '8.6', 'precipitation': '0.12G', 'longitude': '148.109', 'sender_id': 'producer1', 'Creadted_time': '2019-05-24T22:36:06'}\n",
      "Message published successfully. Data: {'latitude': '-37.588', 'relative_humidity': '52.8', 'max_wind_speed': '18.1', 'air_temperature_celcius': '14', 'windspeed_knots': '9.3', 'precipitation': '0.98G', 'longitude': '141.259', 'sender_id': 'producer1', 'Creadted_time': '2019-05-24T22:36:11'}\n",
      "Message published successfully. Data: {'latitude': '-35.962', 'relative_humidity': '49.9', 'max_wind_speed': '15.9', 'air_temperature_celcius': '14', 'windspeed_knots': '6.8', 'precipitation': '0.00G', 'longitude': '143.791', 'sender_id': 'producer1', 'Creadted_time': '2019-05-24T22:36:46'}\n",
      "Message published successfully. Data: {'latitude': '-35.321', 'relative_humidity': '44', 'max_wind_speed': '7', 'air_temperature_celcius': '12', 'windspeed_knots': '4.7', 'precipitation': '0.00G', 'longitude': '143.502', 'sender_id': 'producer1', 'Creadted_time': '2019-05-24T22:36:51'}\n",
      "Message published successfully. Data: {'latitude': '-37.644', 'relative_humidity': '58', 'max_wind_speed': '12', 'air_temperature_celcius': '22', 'windspeed_knots': '6.9', 'precipitation': '0.00I', 'longitude': '149.233', 'sender_id': 'producer1', 'Creadted_time': '2019-05-24T22:36:56'}\n",
      "Message published successfully. Data: {'latitude': '-37.618', 'relative_humidity': '53.8', 'max_wind_speed': '15', 'air_temperature_celcius': '19', 'windspeed_knots': '9.2', 'precipitation': '0.02G', 'longitude': '149.281', 'sender_id': 'producer1', 'Creadted_time': '2019-05-24T22:37:01'}\n",
      "Message published successfully. Data: {'latitude': '-36.758', 'relative_humidity': '58.4', 'max_wind_speed': '11.1', 'air_temperature_celcius': '20', 'windspeed_knots': '6.1', 'precipitation': '0.00I', 'longitude': '145.19', 'sender_id': 'producer1', 'Creadted_time': '2019-05-24T22:37:06'}\n",
      "Message published successfully. Data: {'latitude': '-37.586', 'relative_humidity': '60.5', 'max_wind_speed': '11.1', 'air_temperature_celcius': '19', 'windspeed_knots': '7', 'precipitation': '0.83G', 'longitude': '141.271', 'sender_id': 'producer1', 'Creadted_time': '2019-05-24T22:37:11'}\n",
      "Message published successfully. Data: {'latitude': '-37.466', 'relative_humidity': '48.7', 'max_wind_speed': '15', 'air_temperature_celcius': '17', 'windspeed_knots': '10.5', 'precipitation': '0.00I', 'longitude': '148.143', 'sender_id': 'producer1', 'Creadted_time': '2019-05-24T22:37:46'}\n"
     ]
    },
    {
     "ename": "KeyboardInterrupt",
     "evalue": "",
     "output_type": "error",
     "traceback": [
      "\u001b[0;31m---------------------------------------------------------------------------\u001b[0m",
      "\u001b[0;31mKeyboardInterrupt\u001b[0m                         Traceback (most recent call last)",
      "\u001b[0;32m<ipython-input-1-efbfa16a1443>\u001b[0m in \u001b[0;36m<module>\u001b[0;34m()\u001b[0m\n\u001b[1;32m     54\u001b[0m         \u001b[0;31m#cline = line.encode('utf-8')\u001b[0m\u001b[0;34m\u001b[0m\u001b[0;34m\u001b[0m\u001b[0m\n\u001b[1;32m     55\u001b[0m         \u001b[0mpublish_message\u001b[0m\u001b[0;34m(\u001b[0m\u001b[0mproducer\u001b[0m\u001b[0;34m,\u001b[0m \u001b[0mtopic\u001b[0m\u001b[0;34m,\u001b[0m \u001b[0;34m'parsed'\u001b[0m\u001b[0;34m,\u001b[0m \u001b[0mline\u001b[0m\u001b[0;34m)\u001b[0m\u001b[0;34m\u001b[0m\u001b[0m\n\u001b[0;32m---> 56\u001b[0;31m         \u001b[0msleep\u001b[0m\u001b[0;34m(\u001b[0m\u001b[0;36m5\u001b[0m\u001b[0;34m)\u001b[0m\u001b[0;34m\u001b[0m\u001b[0m\n\u001b[0m",
      "\u001b[0;31mKeyboardInterrupt\u001b[0m: "
     ]
    }
   ],
   "source": [
    "# import statements\n",
    "from time import sleep\n",
    "from json import dumps\n",
    "from kafka import KafkaProducer\n",
    "import random\n",
    "import datetime as dt\n",
    "import csv\n",
    "import datetime\n",
    "\n",
    "def readFile(filename):\n",
    "    with open(filename) as f:\n",
    "        list = [{k.strip(): str(v) for k, v in row.items()}\n",
    "        for row in csv.DictReader(f, skipinitialspace=True)]\n",
    "    return list\n",
    "\n",
    "\n",
    "def publish_message(producer_instance, topic_name, key, value):\n",
    "    try:\n",
    "        key_bytes = bytes(key, encoding='utf-8')\n",
    "        value_bytes = bytes(value, encoding='utf-8')\n",
    "        producer_instance.send(topic_name, key=key_bytes, value=value_bytes)\n",
    "        producer_instance.flush()\n",
    "        print('Message published successfully. Data: ' + str(value))\n",
    "    except Exception as ex:\n",
    "        print('Exception in publishing message.')\n",
    "        print(str(ex))\n",
    "        \n",
    "def connect_kafka_producer():\n",
    "    _producer = None\n",
    "    try:\n",
    "        _producer = KafkaProducer(bootstrap_servers=['localhost:9092'],\n",
    "                                  api_version=(0, 10))\n",
    "    except Exception as ex:\n",
    "        print('Exception while connecting Kafka.')\n",
    "        print(str(ex))\n",
    "    finally:\n",
    "        return _producer\n",
    "    \n",
    "if __name__ == '__main__':\n",
    "   \n",
    "    topic = 'topic1'\n",
    "    \n",
    "    print('Publishing records..')\n",
    "    climateInedx = 0\n",
    "    climate = readFile(\"climate_streaming.csv\")\n",
    "    climateNumber = len(climate)\n",
    "    producer = connect_kafka_producer()\n",
    "    \n",
    "    while True:\n",
    "        record = climate[random.randrange(0,climateNumber)]\n",
    "        record.update({\"sender_id\":\"producer1\"})\n",
    "        record.update({\"Creadted_time\":datetime.datetime.now().strftime('%Y-%m-%dT%H:%M:%S')})\n",
    "        line = str(record)\n",
    "        publish_message(producer, topic, 'parsed', line)\n",
    "        sleep(5)"
   ]
  },
  {
   "cell_type": "code",
   "execution_count": null,
   "metadata": {},
   "outputs": [],
   "source": []
  },
  {
   "cell_type": "code",
   "execution_count": null,
   "metadata": {},
   "outputs": [],
   "source": []
  }
 ],
 "metadata": {
  "kernelspec": {
   "display_name": "Python 3",
   "language": "python",
   "name": "python3"
  },
  "language_info": {
   "codemirror_mode": {
    "name": "ipython",
    "version": 3
   },
   "file_extension": ".py",
   "mimetype": "text/x-python",
   "name": "python",
   "nbconvert_exporter": "python",
   "pygments_lexer": "ipython3",
   "version": "3.5.2"
  }
 },
 "nbformat": 4,
 "nbformat_minor": 2
}
